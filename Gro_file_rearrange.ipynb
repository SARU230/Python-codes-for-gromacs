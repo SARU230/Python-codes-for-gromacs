{
  "nbformat": 4,
  "nbformat_minor": 0,
  "metadata": {
    "colab": {
      "provenance": []
    },
    "kernelspec": {
      "name": "python3",
      "display_name": "Python 3"
    },
    "language_info": {
      "name": "python"
    }
  },
  "cells": [
    {
      "cell_type": "code",
      "source": [
        "def calculate_num_molecules(filename, atoms_per_molecule):\n",
        "  \"\"\"\n",
        "  Calculates the number of molecules in a file based on the number of lines\n",
        "  (excluding the first two and the last) and the number of atoms per molecule.\n",
        "  Assumes one line corresponds to one atom.\n",
        "\n",
        "  Args:\n",
        "      filename (str): The name of the file to read.\n",
        "      atoms_per_molecule (int): The number of atoms per molecule\n",
        "\n",
        "  Returns:\n",
        "      int: The calculated number of molecules or -1 if an error occurs\n",
        "  \"\"\"\n",
        "\n",
        "  line_count = count_lines_after_skipping(filename)\n",
        "\n",
        "  if line_count <= 0:\n",
        "    print(\"Error: The file has no lines to process (or it contains less than three lines).\")\n",
        "    return -1\n",
        "\n",
        "  try:\n",
        "      num_molecules = int(line_count / atoms_per_molecule)\n",
        "      return num_molecules\n",
        "\n",
        "  except ValueError as e:\n",
        "      print(f\"Error: {e}\")\n",
        "      return -1\n",
        "\n",
        "# Get user inputs\n",
        "filename = input(\"Enter the filename: \")\n",
        "atoms_per_molecule = int(input(\"Enter the number of atoms per molecule: \"))\n",
        "\n",
        "# Calculate and print the number of molecules\n",
        "num_molecules = calculate_num_molecules(filename, atoms_per_molecule)\n",
        "if num_molecules != -1:\n",
        "    print(f\"Number of molecules: {num_molecules}\")"
      ],
      "metadata": {
        "colab": {
          "base_uri": "https://localhost:8080/"
        },
        "id": "gQgBzT43H31E",
        "outputId": "b207754b-406b-436b-fb34-67619a6f7522"
      },
      "execution_count": 37,
      "outputs": [
        {
          "output_type": "stream",
          "name": "stdout",
          "text": [
            "Enter the filename: in.gro\n",
            "Enter the number of atoms per molecule: 100\n",
            "Number of molecules: 90\n"
          ]
        }
      ]
    },
    {
      "cell_type": "code",
      "source": [
        "def rearrange_first_column_and_save(filename, atoms_per_molecule, residue_name):\n",
        "  \"\"\"\n",
        "  Rearranges the first column (residue number) in a file based on the number of\n",
        "  atoms per molecule. Adds the provided residue name directly after the rearranged\n",
        "  atom number without a space. Preserves the original column spacing and order.\n",
        "  Saves the result to a new file, including the first two and the last line\n",
        "  from the input file\n",
        "\n",
        "  Args:\n",
        "    filename (str): The name of the input file\n",
        "    atoms_per_molecule (int): The number of atoms per molecule\n",
        "    residue_name (str): The three-letter residue name to be added\n",
        "  \"\"\"\n",
        "\n",
        "  if len(residue_name) != 3:\n",
        "    raise ValueError(\"Residue name must be exactly three letters long.\")\n",
        "\n",
        "  try:\n",
        "    with open(filename, 'r') as infile:\n",
        "      lines = infile.readlines()\n",
        "\n",
        "    num_atoms = int(lines[1].strip())\n",
        "    atom_lines = lines[2: -1]\n",
        "\n",
        "    if num_atoms % atoms_per_molecule != 0:\n",
        "      raise ValueError(\"Number of atoms not divisible by atoms per molecule.\")\n",
        "\n",
        "    num_molecules = num_atoms // atoms_per_molecule\n",
        "\n",
        "    reordered_lines = []\n",
        "    for i in range(num_molecules):\n",
        "      for j in range(atoms_per_molecule):\n",
        "        line = atom_lines[i * atoms_per_molecule + j]\n",
        "        parts = line.split()\n",
        "        # Preserve the original spacing by rejoining with the same delimiter\n",
        "        updated_line = line.replace(parts[0], str(i + 1) + residue_name, 1)\n",
        "        reordered_lines.append(updated_line)\n",
        "\n",
        "    output_lines = lines[:2] + reordered_lines + lines[-1:]\n",
        "\n",
        "    output_filename = \"output_rearranged.gro\"\n",
        "    with open(output_filename, 'w') as outfile:\n",
        "      outfile.writelines(output_lines)\n",
        "\n",
        "    print(f\"Rearranged file saved as {output_filename}\")\n",
        "\n",
        "  except FileNotFoundError:\n",
        "    print(f\"Error: File '{filename}' not found.\")\n",
        "  except ValueError as e:\n",
        "    print(f\"Error: {e}\")\n",
        "\n",
        "# Get user inputs\n",
        "filename = input(\"Enter the filename: \")\n",
        "atoms_per_molecule = int(input(\"Enter the number of atoms per molecule: \"))\n",
        "residue_name = input(\"Enter the three-letter residue name: \")\n",
        "\n",
        "# Call the function to rearrange and save\n",
        "rearrange_first_column_and_save(filename, atoms_per_molecule, residue_name)"
      ],
      "metadata": {
        "colab": {
          "base_uri": "https://localhost:8080/"
        },
        "id": "W7fJ85IIQ5J-",
        "outputId": "c387ff33-feb2-4fe1-a472-04f510a060f4"
      },
      "execution_count": 48,
      "outputs": [
        {
          "output_type": "stream",
          "name": "stdout",
          "text": [
            "Enter the filename: in.gro\n",
            "Enter the number of atoms per molecule: 100\n",
            "Enter the three-letter residue name: tpe\n",
            "Rearranged file saved as output_rearranged.gro\n"
          ]
        }
      ]
    }
  ]
}